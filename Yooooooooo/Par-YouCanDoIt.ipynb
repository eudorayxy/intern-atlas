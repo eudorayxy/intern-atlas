{
 "cells": [
  {
   "cell_type": "code",
   "execution_count": 1,
   "id": "a453a717-9e24-4fc4-9df0-f850b88054ff",
   "metadata": {
    "editable": true,
    "scrolled": true,
    "slideshow": {
     "slide_type": ""
    },
    "tags": []
   },
   "outputs": [
    {
     "name": "stdout",
     "output_type": "stream",
     "text": [
      "Requirement already satisfied: atlasopenmagic in /opt/conda/lib/python3.12/site-packages (1.0.1)\n",
      "Requirement already satisfied: pyyaml in /opt/conda/lib/python3.12/site-packages (from atlasopenmagic) (6.0.2)\n",
      "Requirement already satisfied: requests in /opt/conda/lib/python3.12/site-packages (from atlasopenmagic) (2.32.3)\n",
      "Requirement already satisfied: charset_normalizer<4,>=2 in /opt/conda/lib/python3.12/site-packages (from requests->atlasopenmagic) (3.4.1)\n",
      "Requirement already satisfied: idna<4,>=2.5 in /opt/conda/lib/python3.12/site-packages (from requests->atlasopenmagic) (3.10)\n",
      "Requirement already satisfied: urllib3<3,>=1.21.1 in /opt/conda/lib/python3.12/site-packages (from requests->atlasopenmagic) (2.3.0)\n",
      "Requirement already satisfied: certifi>=2017.4.17 in /opt/conda/lib/python3.12/site-packages (from requests->atlasopenmagic) (2025.1.31)\n",
      "Requirement already satisfied: pyarrow>=20.0.0 in /opt/conda/lib/python3.12/site-packages (20.0.0)\n",
      "Note: you may need to restart the kernel to use updated packages.\n"
     ]
    }
   ],
   "source": [
    "#install required packages\n",
    "import sys\n",
    "!pip install atlasopenmagic\n",
    "%pip install \"pyarrow>=20.0.0\"\n",
    "# from atlasopenmagic import install_from_environment\n",
    "# install_from_environment(environment_file=\"environment.yml\")"
   ]
  },
  {
   "cell_type": "code",
   "execution_count": 2,
   "id": "1239a78b-66e7-4e1e-81a4-9b44397f43d5",
   "metadata": {
    "tags": []
   },
   "outputs": [],
   "source": [
    "import os\n",
    "import awkward as ak \n",
    "import vector\n",
    "import time\n",
    "import datetime\n",
    "import psutil\n",
    "from zoneinfo import ZoneInfo\n",
    "import uproot\n",
    "import glob\n",
    "import numpy as np # # for numerical calculations such as histogramming\n",
    "import matplotlib.pyplot as plt # for plotting\n",
    "from matplotlib.ticker import MaxNLocator, AutoMinorLocator # for minor ticks\n",
    "# Enables parallel execution for faster processing of large datasets \n",
    "from concurrent.futures import ProcessPoolExecutor, as_completed \n",
    "\n",
    "sys.path.append('./backend')\n",
    "#from GetInputMagic import get_samples_magic\n",
    "from ValidateVariables import validate_variables\n",
    "from GetInput import get_samples\n",
    "from ParallelRunAnalysis import analysis_new, get_data_pq\n",
    "from PqPlotHistogramAk import plot_histogram_pq\n"
   ]
  },
  {
   "cell_type": "markdown",
   "id": "08728506-6ce6-4d36-bc8c-345660012f44",
   "metadata": {},
   "source": [
    "The string code for the available final-state collections:\n",
    "\n",
    "* '2to4lep' - two to four leptons with at least 7 GeV of $p_T$ each\n",
    "* '2muons' - at least two muons with at least 10 GeV of $p_T$\n",
    "* 'GamGam' - at least two photons with at least 25 GeV of $p_T$ each\n",
    "* 'exactly4lep' - exactly four leptons with at least 7 GeV of $p_T$\n",
    "\n",
    "The string code for the available Monte Carlo simulation dataset:\n",
    "* 'Zee'\n",
    "* 'Zmumu'\n",
    "* 'Ztautau'\n",
    "* 'Wlepnu'\n",
    "* 'ttbar'\n",
    "* 'H'\n",
    "* 'ZZllll'\n",
    "\n",
    "Please use '+' to combine data sets. For example, if you want to combine the data for the physics processes of $Z\\rightarrow\\tau\\tau$ and $ZZ^{*}\\rightarrow llll$, write 'Ztautau+ZZllll'."
   ]
  },
  {
   "cell_type": "markdown",
   "id": "59dbe001-bbf2-4a1b-ac30-4eeeda7c2cdd",
   "metadata": {},
   "source": [
    "Please include '**Data**' in the key defined for the final-state collection and '**Signal**' for the physical processes simulated by the MC. Remember, strings in Python are case-sensitive! Please do not include 'Data' in the key if you don't want to store the real data as its value. Likewise, please avoid having 'Signal' in the key if it is not a Monte Carlo simulated data set that models the physics process that you want to study.\n",
    "The functions defined to analyse and plot the data rely heavily on the presence of the keywords '**Data**' and '**Signal**'. Please see the scripts in the backend folder if you are interested in how the functions are defined. You are recommended not to modify the scripts in the backend folder."
   ]
  },
  {
   "cell_type": "code",
   "execution_count": 3,
   "id": "dc2a9c24-8cc5-449c-b634-c1477749a424",
   "metadata": {
    "tags": []
   },
   "outputs": [],
   "source": [
    "keys_input = ['Background $Z→ee$, $W→lν$', \n",
    "              'Signal $Z→μμ$',\n",
    "              'Data 2to4lep']\n",
    "\n",
    "string_codes_input = ['Zee+Wlepnu', \n",
    "                      'Zmumu',\n",
    "                      '2to4lep']\n",
    "\n",
    "\n",
    "keys_input = ['Data 2to4lep', 'Signal $Z→μμ$']\n",
    "\n",
    "string_codes_input = ['2to4lep', 'Zmumu']"
   ]
  },
  {
   "cell_type": "code",
   "execution_count": 4,
   "id": "12eebba5-d4eb-456d-b2c9-084cc43f4db6",
   "metadata": {
    "scrolled": true,
    "tags": []
   },
   "outputs": [
    {
     "name": "stdout",
     "output_type": "stream",
     "text": [
      "{'Data 2to4lep': {'files': ['./backend/datasets/ODEO_FEB2025_v0_2to4lep_data15_periodD.2to4lep.root', './backend/datasets/ODEO_FEB2025_v0_2to4lep_data15_periodE.2to4lep.root', './backend/datasets/ODEO_FEB2025_v0_2to4lep_data15_periodF.2to4lep.root', './backend/datasets/ODEO_FEB2025_v0_2to4lep_data15_periodG.2to4lep.root', './backend/datasets/ODEO_FEB2025_v0_2to4lep_data15_periodH.2to4lep.root', './backend/datasets/ODEO_FEB2025_v0_2to4lep_data15_periodJ.2to4lep.root', './backend/datasets/ODEO_FEB2025_v0_2to4lep_data16_periodA.2to4lep.root', './backend/datasets/ODEO_FEB2025_v0_2to4lep_data16_periodB.2to4lep.root', './backend/datasets/ODEO_FEB2025_v0_2to4lep_data16_periodC.2to4lep.root', './backend/datasets/ODEO_FEB2025_v0_2to4lep_data16_periodD.2to4lep.root', './backend/datasets/ODEO_FEB2025_v0_2to4lep_data16_periodE.2to4lep.root', './backend/datasets/ODEO_FEB2025_v0_2to4lep_data16_periodF.2to4lep.root', './backend/datasets/ODEO_FEB2025_v0_2to4lep_data16_periodG.2to4lep.root', './backend/datasets/ODEO_FEB2025_v0_2to4lep_data16_periodI.2to4lep.root', './backend/datasets/ODEO_FEB2025_v0_2to4lep_data16_periodK.2to4lep.root', './backend/datasets/ODEO_FEB2025_v0_2to4lep_data16_periodL.2to4lep.root']}, 'Signal $Z→μμ$': {'files': ['./backend/datasets/ODEO_FEB2025_v0_2to4lep_mc_700323.Sh_2211_Zmumu_maxHTpTV2_BFilter.2to4lep.root', './backend/datasets/ODEO_FEB2025_v0_2to4lep_mc_700324.Sh_2211_Zmumu_maxHTpTV2_CFilterBVeto.2to4lep.root', './backend/datasets/ODEO_FEB2025_v0_2to4lep_mc_700325.Sh_2211_Zmumu_maxHTpTV2_CVetoBVeto.2to4lep.root']}}\n"
     ]
    }
   ],
   "source": [
    "samples = get_samples(keys_input, string_codes_input)\n",
    "print(samples)"
   ]
  },
  {
   "cell_type": "code",
   "execution_count": 5,
   "id": "a8ab25ae-8149-452e-9d1f-218f8448e30d",
   "metadata": {
    "tags": []
   },
   "outputs": [],
   "source": [
    "luminosity = 36.6\n",
    "fraction = 1\n",
    "# Define what variables are important to our analysis\n",
    "variables = [\"lep_n\", \"lep_pt\", \"lep_eta\", \"lep_phi\", \"lep_e\", \n",
    "             #\"lep_ptvarcone30\", \"lep_topoetcone20\", \n",
    "             \"lep_type\", \"lep_charge\",\n",
    "             #\"lep_isLooseID\", \"lep_isMediumID\", \"lep_isTightID\",\n",
    "             #\"lep_isLooseIso\", \"lep_isTightIso\",\n",
    "             #\"trigE\",\n",
    "             \"trigM\", \"lep_isTrigMatched\"]\n"
   ]
  },
  {
   "cell_type": "code",
   "execution_count": 6,
   "id": "7e69f89e-851a-4781-bfae-fb855b19a979",
   "metadata": {},
   "outputs": [],
   "source": [
    "variables = validate_variables(variables)"
   ]
  },
  {
   "cell_type": "code",
   "execution_count": 7,
   "id": "179a17f4-a42b-487d-a5ad-e9ef1618b6d0",
   "metadata": {
    "editable": true,
    "slideshow": {
     "slide_type": ""
    },
    "tags": []
   },
   "outputs": [],
   "source": [
    "# Note: first lepton in each event is [:, 0], 2nd lepton is [:, 1] etc\n",
    "# Functions return bool. True means we should remove the event\n",
    "\n",
    "# Function to cut on the number of leptons in each event\n",
    "def cut_lep_n(lep_n, user_input):\n",
    "    return (lep_n == user_input)\n",
    "\n",
    "# Function to cut on the lepton type (based on type of first two lep_type)\n",
    "# lep_type is a number signifying the lepton type (electron (11) or muon (13))\n",
    "def cut_lep_type(lep_type, user_input):\n",
    "    sum_lep_type = lep_type[:, 0] + lep_type[:, 1] # Sum of first two leptons' type in the event \n",
    "    return (sum_lep_type == user_input)\n",
    "\n",
    "# Function to cut on the lepton charge (based on charge of first two lep_charge)\n",
    "def cut_lep_charge(lep_charge, user_input):\n",
    "    product_lep_charge = lep_charge[:, 0] * lep_charge[:, 1] # Product of first two leptons' charge in the event\n",
    "    return (product_lep_charge == user_input)\n",
    "\n",
    "# Function to cut on the lepton transverse momentum\n",
    "def cut_lep_pt(lep_pt, index, lower_limit):\n",
    "    return (lep_pt[:, index] > lower_limit) # Accept events with lepton pt higher than lower limit\n",
    "\n",
    "# Function to cut on the isolation pt (based on first two leptons)\n",
    "def cut_lep_ptvarcone30(lep_ptvarcone30, upper_limit):\n",
    "    # Accept events with lep_ptvarcone30 in the range\n",
    "    return (lep_ptvarcone30[:, 0] < upper_limit) & (lep_ptvarcone30[:, 1] < upper_limit)\n",
    "\n",
    "# Function to cut on the isolation et (based on first two leptons)\n",
    "def cut_lep_topoetcone20(lep_topoetcone20, upper_limit):\n",
    "    # Accept events with lep_topoetcone20 in the range\n",
    "    return (lep_topoetcone20[:, 0] < upper_limit) & (lep_topoetcone20[:, 1] < upper_limit)\n",
    "\n",
    "# Function to accept events with at least one lepton is triggering\n",
    "def cut_trig_match(lep_trigmatch): \n",
    "    return ak.sum(lep_trigmatch, axis=1) >= 1\n",
    "\n",
    "# # Function to accept events that has been selected by any of the single electron OR muon triggers\n",
    "# def cut_trig(trigE, trigM):\n",
    "#     return trigE | trigM\n",
    "\n",
    "# Function to accept events that has been selected by any of the single electron OR muon triggers\n",
    "def cut_trig(trigM):\n",
    "    return trigM\n",
    "\n",
    "# # Function to filter events based on the identification and isolation criteria of all leptons in each event\n",
    "# def ID_iso_cut(electron_isID, muon_isID, electron_isIso, muon_isIso, lep_type, lep_n): \n",
    "#     return (ak.sum(((lep_type == 13) & muon_isID & muon_isIso) | \n",
    "#                    ((lep_type == 11) & electron_isID & electron_isIso), axis=1) == lep_n)\n",
    "\n",
    "# Function to keep events that have all leptons passed the identification and isolation criteria\n",
    "def ID_iso_cut(lep_isID, lep_isIso, lep_n): \n",
    "    return (ak.sum(lep_isID & lep_isIso, axis=1) == lep_n)\n",
    "\n",
    "# Function to calculate the invariant mass using four momentum (pt, eta, phi, energy)    \n",
    "def calculate_inv_mass(lep_pt, lep_eta, lep_phi, lep_e):\n",
    "    four_momentum = vector.zip({\"pt\": lep_pt, \"eta\": lep_eta, \"phi\": lep_phi, \"E\": lep_e})\n",
    "    invariant_mass = (four_momentum[:, 0] + four_momentum[:, 1]).M\n",
    "\n",
    "    return invariant_mass\n",
    "\n",
    "def selection_cut(data):\n",
    "    # Keep events that pass electron / muon trigger \n",
    "    data = data[cut_trig(data['trigM'])]\n",
    "    # Keep events where at least one lepton is triggering\n",
    "    data = data[cut_trig_match(data['lep_isTrigMatched'])]\n",
    "\n",
    "    # Lepton cuts\n",
    "    lep_n = data['lep_n']\n",
    "    data = data[cut_lep_n(lep_n, 2)]\n",
    "          \n",
    "    lep_type = data['lep_type']\n",
    "    data = data[cut_lep_type(lep_type, 26)]\n",
    "    \n",
    "    lep_charge = data['lep_charge']\n",
    "    data = data[cut_lep_charge(lep_charge, -1)]\n",
    "    \n",
    "    # Invariant Mass\n",
    "    data['mass'] = calculate_inv_mass(data['lep_pt'], data['lep_eta'], data['lep_phi'], data['lep_e'])\n",
    "\n",
    "    return data"
   ]
  },
  {
   "cell_type": "code",
   "execution_count": 8,
   "id": "4e818768-a26b-4113-b70f-f410043c7dde",
   "metadata": {},
   "outputs": [
    {
     "name": "stdout",
     "output_type": "stream",
     "text": [
      "Number of CPU cores: 8\n"
     ]
    }
   ],
   "source": [
    "import multiprocessing\n",
    "\n",
    "cpu_cores = multiprocessing.cpu_count()\n",
    "print(f\"Number of CPU cores: {cpu_cores}\")"
   ]
  },
  {
   "cell_type": "code",
   "execution_count": 9,
   "id": "1247a39c-5631-4f11-a8de-b1d13407d3e7",
   "metadata": {
    "scrolled": true,
    "tags": []
   },
   "outputs": [
    {
     "name": "stdout",
     "output_type": "stream",
     "text": [
      "Processing Data 2to4lep samples\n",
      "parallel_splits = 1\n",
      "\t./backend/datasets/ODEO_FEB2025_v0_2to4lep_data15_periodD.2to4lep.root:\n",
      "\t\t nIn: 880210,\t nOut: \t56978\t in 3.1s\n",
      "parallel_splits = 1\n",
      "\t./backend/datasets/ODEO_FEB2025_v0_2to4lep_data15_periodE.2to4lep.root:\n",
      "\t\t nIn: 1747950,\t nOut: \t127267\t in 5.7s\n",
      "\t\t nIn: 1747950,\t nOut: \t127086\t in 10.7s\n",
      "\t\t nIn: 1747950,\t nOut: \t136061\t in 15.8s\n",
      "\t\t nIn: 1282318,\t nOut: \t96219\t in 19.1s\n",
      "parallel_splits = 1\n",
      "\t./backend/datasets/ODEO_FEB2025_v0_2to4lep_data15_periodF.2to4lep.root:\n",
      "\t\t nIn: 1748102,\t nOut: \t137798\t in 5.4s\n",
      "\t\t nIn: 1748102,\t nOut: \t136371\t in 10.3s\n",
      "\t\t nIn: 687081,\t nOut: \t52263\t in 12.3s\n",
      "parallel_splits = 4\n",
      "\t./backend/datasets/ODEO_FEB2025_v0_2to4lep_data15_periodG.2to4lep.root:\n",
      "\t\t nIn: 1745010,\t nOut: \t153345\t in 20.8s\n",
      "\t\t nIn: 1746345,\t nOut: \t150434\t in 20.7s\n",
      "\t\t nIn: 1746594,\t nOut: \t140194\t in 20.8s\n",
      "\t\t nIn: 1747168,\t nOut: \t140624\t in 20.8s\n",
      "\t\t nIn: 595724,\t nOut: \t50218\t in 25.7s\n",
      "\t\t nIn: 595475,\t nOut: \t54771\t in 25.9s\n",
      "\t\t nIn: 597058,\t nOut: \t51053\t in 26.0s\n",
      "\t\t nIn: 594900,\t nOut: \t46945\t in 26.0s\n",
      "parallel_splits = 1\n",
      "\t./backend/datasets/ODEO_FEB2025_v0_2to4lep_data15_periodH.2to4lep.root:\n",
      "\t\t nIn: 1742226,\t nOut: \t177219\t in 5.4s\n",
      "\t\t nIn: 1123400,\t nOut: \t122260\t in 8.4s\n",
      "parallel_splits = 4\n",
      "\t./backend/datasets/ODEO_FEB2025_v0_2to4lep_data15_periodJ.2to4lep.root:\n",
      "\t\t nIn: 1742714,\t nOut: \t171347\t in 17.1s\t\t nIn: 1741970,\t nOut: \t168842\t in 17.1s\n",
      "\n",
      "\t\t nIn: 1741872,\t nOut: \t171225\t in 17.2s\n",
      "\t\t nIn: 1741700,\t nOut: \t172188\t in 17.1s\n",
      "\t\t nIn: 1741700,\t nOut: \t170743\t in 36.4s\n",
      "\t\t nIn: 1741872,\t nOut: \t169124\t in 36.5s\n",
      "\t\t nIn: 1742714,\t nOut: \t162851\t in 36.4s\n",
      "\t\t nIn: 1741970,\t nOut: \t171131\t in 36.8s\n",
      "\t\t nIn: 557587,\t nOut: \t54652\t in 41.9s\n",
      "\t\t nIn: 559075,\t nOut: \t54977\t in 42.1s\n",
      "\t\t nIn: 559615,\t nOut: \t54947\t in 42.2s\n",
      "\t\t nIn: 559271,\t nOut: \t55505\t in 42.2s\n",
      "parallel_splits = 4\n",
      "\t./backend/datasets/ODEO_FEB2025_v0_2to4lep_data16_periodA.2to4lep.root:\n",
      "\t\t nIn: 1753665,\t nOut: \t113988\t in 16.2s\n",
      "\t\t nIn: 1755180,\t nOut: \t117903\t in 16.3s\n",
      "\t\t nIn: 1753593,\t nOut: \t118177\t in 16.4s\n",
      "\t\t nIn: 1754517,\t nOut: \t115902\t in 16.4s\n",
      "\t\t nIn: 87063,\t nOut: \t5244\t in 17.1s\n",
      "\t\t nIn: 88578,\t nOut: \t5616\t in 17.0s\n",
      "\t\t nIn: 88650,\t nOut: \t5391\t in 17.2s\n",
      "\t\t nIn: 87725,\t nOut: \t5630\t in 17.3s\n",
      "parallel_splits = 4\n",
      "\t./backend/datasets/ODEO_FEB2025_v0_2to4lep_data16_periodB.2to4lep.root:\n",
      "\t\t nIn: 1749472,\t nOut: \t189300\t in 16.0s\n",
      "\t\t nIn: 1748996,\t nOut: \t174986\t in 16.3s\n",
      "\t\t nIn: 1752833,\t nOut: \t167417\t in 16.1s\n",
      "\t\t nIn: 1747660,\t nOut: \t180112\t in 16.5s\n",
      "\t\t nIn: 1749472,\t nOut: \t182172\t in 35.4s\n",
      "\t\t nIn: 1748996,\t nOut: \t175790\t in 36.3s\n",
      "\t\t nIn: 1752833,\t nOut: \t169400\t in 36.2s\n",
      "\t\t nIn: 1747660,\t nOut: \t175656\t in 36.4s\n",
      "\t\t nIn: 501435,\t nOut: \t49270\t in 38.5s\n",
      "\t\t nIn: 502387,\t nOut: \t50785\t in 39.6s\n",
      "\t\t nIn: 494712,\t nOut: \t49317\t in 39.4s\n",
      "\t\t nIn: 505059,\t nOut: \t53663\t in 39.5s\n",
      "parallel_splits = 4\n",
      "\t./backend/datasets/ODEO_FEB2025_v0_2to4lep_data16_periodC.2to4lep.root:\n",
      "\t\t nIn: 1751701,\t nOut: \t169181\t in 16.7s\t\t nIn: 1750205,\t nOut: \t167235\t in 16.6s\t\t nIn: 1750989,\t nOut: \t166095\t in 16.6s\n",
      "\n",
      "\n",
      "\t\t nIn: 1748499,\t nOut: \t174262\t in 16.7s\n",
      "\t\t nIn: 1750205,\t nOut: \t175979\t in 36.1s\n",
      "\t\t nIn: 1748499,\t nOut: \t179480\t in 36.2s\n",
      "\t\t nIn: 1750989,\t nOut: \t177277\t in 36.2s\n",
      "\t\t nIn: 1751701,\t nOut: \t164132\t in 36.2s\n",
      "\t\t nIn: 1683505,\t nOut: \t162761\t in 57.4s\n",
      "\t\t nIn: 1685073,\t nOut: \t165779\t in 57.4s\n",
      "\t\t nIn: 1682082,\t nOut: \t162960\t in 57.5s\t\t nIn: 1688486,\t nOut: \t168508\t in 57.5s\n",
      "\n",
      "parallel_splits = 4\n",
      "\t./backend/datasets/ODEO_FEB2025_v0_2to4lep_data16_periodD.2to4lep.root:\n",
      "\t\t nIn: 1741290,\t nOut: \t195914\t in 17.0s\n",
      "\t\t nIn: 1740801,\t nOut: \t195163\t in 17.0s\n",
      "\t\t nIn: 1740875,\t nOut: \t190182\t in 17.1s\n",
      "\t\t nIn: 1742684,\t nOut: \t185056\t in 17.0s\n",
      "\t\t nIn: 1742684,\t nOut: \t190391\t in 37.0s\n",
      "\t\t nIn: 1740801,\t nOut: \t201521\t in 37.1s\n",
      "\t\t nIn: 1740875,\t nOut: \t200153\t in 37.1s\n",
      "\t\t nIn: 1741290,\t nOut: \t190286\t in 37.1s\n",
      "\t\t nIn: 1740875,\t nOut: \t201708\t in 59.9s\t\t nIn: 1742684,\t nOut: \t193747\t in 59.8s\n",
      "\n",
      "\t\t nIn: 1740801,\t nOut: \t193852\t in 59.9s\t\t nIn: 1741290,\t nOut: \t200382\t in 59.9s\n",
      "\n",
      "\t\t nIn: 1742684,\t nOut: \t188663\t in 82.3s\n",
      "\t\t nIn: 1740801,\t nOut: \t199274\t in 82.4s\n",
      "\t\t nIn: 1741290,\t nOut: \t203203\t in 82.4s\n",
      "\t\t nIn: 1740875,\t nOut: \t197368\t in 82.8s\n",
      "\t\t nIn: 1740801,\t nOut: \t194526\t in 104.8s\n",
      "\t\t nIn: 1741290,\t nOut: \t196792\t in 104.8s\n",
      "\t\t nIn: 1740875,\t nOut: \t197623\t in 105.1s\n",
      "\t\t nIn: 1742684,\t nOut: \t194000\t in 105.1s\n",
      "\t\t nIn: 411256,\t nOut: \t47266\t in 108.2s\n",
      "\t\t nIn: 413701,\t nOut: \t48165\t in 108.3s\n",
      "\t\t nIn: 413331,\t nOut: \t44370\t in 108.4s\n",
      "\t\t nIn: 404287,\t nOut: \t49258\t in 108.3s\n",
      "parallel_splits = 4\n",
      "\t./backend/datasets/ODEO_FEB2025_v0_2to4lep_data16_periodE.2to4lep.root:\n",
      "\t\t nIn: 1739177,\t nOut: \t203406\t in 15.7s\n",
      "\t\t nIn: 1740168,\t nOut: \t203991\t in 15.8s\n",
      "\t\t nIn: 1740670,\t nOut: \t198253\t in 15.6s\n",
      "\t\t nIn: 1739539,\t nOut: \t203821\t in 15.7s\n",
      "\t\t nIn: 1102557,\t nOut: \t121950\t in 26.8s\t\t nIn: 1104049,\t nOut: \t129346\t in 27.0s\n",
      "\n",
      "\t\t nIn: 1103687,\t nOut: \t127817\t in 26.9s\n",
      "\t\t nIn: 1103058,\t nOut: \t130089\t in 27.1s\n",
      "parallel_splits = 4\n",
      "\t./backend/datasets/ODEO_FEB2025_v0_2to4lep_data16_periodF.2to4lep.root:\n",
      "\t\t nIn: 1737187,\t nOut: \t224036\t in 16.6s\n",
      "\t\t nIn: 1734408,\t nOut: \t226434\t in 16.4s\n",
      "\t\t nIn: 1735220,\t nOut: \t226752\t in 16.5s\n",
      "\t\t nIn: 1736198,\t nOut: \t223227\t in 16.6s\n",
      "\t\t nIn: 1736198,\t nOut: \t222350\t in 36.0s\n",
      "\t\t nIn: 1737187,\t nOut: \t226803\t in 36.3s\n",
      "\t\t nIn: 1734408,\t nOut: \t225608\t in 36.2s\n",
      "\t\t nIn: 1735220,\t nOut: \t223392\t in 36.3s\n",
      "\t\t nIn: 1736198,\t nOut: \t226546\t in 57.2s\n",
      "\t\t nIn: 1737187,\t nOut: \t230107\t in 57.7s\n",
      "\t\t nIn: 1734408,\t nOut: \t224208\t in 57.6s\n",
      "\t\t nIn: 1735220,\t nOut: \t224665\t in 58.0s\n",
      "\t\t nIn: 599057,\t nOut: \t76541\t in 62.2s\n",
      "\t\t nIn: 596090,\t nOut: \t78250\t in 63.0s\n",
      "\t\t nIn: 601991,\t nOut: \t78533\t in 63.0s\n",
      "\t\t nIn: 604427,\t nOut: \t79631\t in 62.9s\n",
      "parallel_splits = 4\n",
      "\t./backend/datasets/ODEO_FEB2025_v0_2to4lep_data16_periodG.2to4lep.root:\n",
      "\t\t nIn: 1733232,\t nOut: \t225546\t in 16.2s\n",
      "\t\t nIn: 1739273,\t nOut: \t220029\t in 16.3s\n",
      "\t\t nIn: 1734151,\t nOut: \t224925\t in 16.1s\n",
      "\t\t nIn: 1734019,\t nOut: \t224111\t in 16.2s\n",
      "\t\t nIn: 1734019,\t nOut: \t224312\t in 35.6s\n",
      "\t\t nIn: 1739273,\t nOut: \t216426\t in 35.9s\n",
      "\t\t nIn: 1734151,\t nOut: \t221863\t in 35.8s\n",
      "\t\t nIn: 1733232,\t nOut: \t224807\t in 36.0s\n",
      "\t\t nIn: 1734019,\t nOut: \t224271\t in 57.3s\t\t nIn: 1739273,\t nOut: \t224517\t in 57.4s\n",
      "\n",
      "\t\t nIn: 1733232,\t nOut: \t224333\t in 57.6s\n",
      "\t\t nIn: 1734151,\t nOut: \t226364\t in 57.6s\n",
      "\t\t nIn: 1370968,\t nOut: \t182025\t in 72.9s\n",
      "\t\t nIn: 1386729,\t nOut: \t180115\t in 72.9s\n",
      "\t\t nIn: 1386333,\t nOut: \t181126\t in 73.0s\n",
      "\t\t nIn: 1389091,\t nOut: \t177597\t in 73.2s\n",
      "parallel_splits = 4\n",
      "\t./backend/datasets/ODEO_FEB2025_v0_2to4lep_data16_periodI.2to4lep.root:\n",
      "\t\t nIn: 1739352,\t nOut: \t209486\t in 16.2s\n",
      "\t\t nIn: 1738978,\t nOut: \t213206\t in 16.3s\n",
      "\t\t nIn: 1740672,\t nOut: \t207994\t in 16.1s\n",
      "\t\t nIn: 1740248,\t nOut: \t212922\t in 16.3s\n",
      "\t\t nIn: 1738978,\t nOut: \t213840\t in 36.6s\n",
      "\t\t nIn: 1740248,\t nOut: \t212113\t in 36.6s\n",
      "\t\t nIn: 1740672,\t nOut: \t210774\t in 36.7s\n",
      "\t\t nIn: 1739352,\t nOut: \t211993\t in 36.9s\n",
      "\t\t nIn: 1738978,\t nOut: \t212792\t in 59.0s\n",
      "\t\t nIn: 1740248,\t nOut: \t214062\t in 59.6s\n",
      "\t\t nIn: 1740672,\t nOut: \t209069\t in 60.1s\n",
      "\t\t nIn: 1739352,\t nOut: \t215252\t in 60.4s\n",
      "\t\t nIn: 1738978,\t nOut: \t210008\t in 80.3s\n",
      "\t\t nIn: 1740248,\t nOut: \t208732\t in 81.2s\n",
      "\t\t nIn: 1740672,\t nOut: \t211497\t in 82.8s\n",
      "\t\t nIn: 1739352,\t nOut: \t210010\t in 83.1s\n",
      "\t\t nIn: 1738978,\t nOut: \t214361\t in 97.2s\n",
      "\t\t nIn: 1740248,\t nOut: \t211479\t in 102.5s\n",
      "\t\t nIn: 1739352,\t nOut: \t213308\t in 104.8s\n",
      "\t\t nIn: 1740672,\t nOut: \t205827\t in 104.7s\n",
      "\t\t nIn: 1586855,\t nOut: \t194864\t in 106.7s\n",
      "\t\t nIn: 1580504,\t nOut: \t192216\t in 110.6s\n",
      "\t\t nIn: 1578385,\t nOut: \t198326\t in 113.9s\n",
      "\t\t nIn: 1584985,\t nOut: \t192431\t in 114.0s\n",
      "parallel_splits = 4\n",
      "\t./backend/datasets/ODEO_FEB2025_v0_2to4lep_data16_periodK.2to4lep.root:\n",
      "\t\t nIn: 1740432,\t nOut: \t196368\t in 16.7s\n",
      "\t\t nIn: 1738979,\t nOut: \t200788\t in 16.7s\t\t nIn: 1744678,\t nOut: \t204093\t in 16.4s\n",
      "\n",
      "\t\t nIn: 1739340,\t nOut: \t204086\t in 16.6s\n",
      "\t\t nIn: 1744678,\t nOut: \t194735\t in 36.1s\n",
      "\t\t nIn: 1738979,\t nOut: \t198320\t in 36.7s\n",
      "\t\t nIn: 1739340,\t nOut: \t197679\t in 37.2s\n",
      "\t\t nIn: 1740432,\t nOut: \t202737\t in 37.4s\n",
      "\t\t nIn: 633425,\t nOut: \t72728\t in 41.9s\n",
      "\t\t nIn: 644823,\t nOut: \t76706\t in 42.6s\n",
      "\t\t nIn: 644101,\t nOut: \t77774\t in 42.5s\n",
      "\t\t nIn: 641917,\t nOut: \t73973\t in 42.9s\n",
      "parallel_splits = 4\n",
      "\t./backend/datasets/ODEO_FEB2025_v0_2to4lep_data16_periodL.2to4lep.root:\n",
      "\t\t nIn: 1735182,\t nOut: \t203531\t in 18.6s\n",
      "\t\t nIn: 1738928,\t nOut: \t204164\t in 18.3s\t\t nIn: 1735115,\t nOut: \t209085\t in 18.5s\n",
      "\n",
      "\t\t nIn: 1748930,\t nOut: \t208805\t in 18.6s\n",
      "\t\t nIn: 1748930,\t nOut: \t204655\t in 39.8s\n",
      "\t\t nIn: 1738928,\t nOut: \t206870\t in 40.0s\n",
      "\t\t nIn: 1735115,\t nOut: \t208209\t in 40.5s\n",
      "\t\t nIn: 1735182,\t nOut: \t202903\t in 41.1s\n",
      "\t\t nIn: 1748930,\t nOut: \t204027\t in 61.6s\n",
      "\t\t nIn: 1738928,\t nOut: \t206639\t in 64.3s\n",
      "\t\t nIn: 1735182,\t nOut: \t204522\t in 66.3s\n",
      "\t\t nIn: 1735115,\t nOut: \t206570\t in 66.7s\n",
      "\t\t nIn: 1748930,\t nOut: \t198796\t in 70.2s\n",
      "\t\t nIn: 1738928,\t nOut: \t204495\t in 82.2s\n",
      "\t\t nIn: 1735115,\t nOut: \t207254\t in 88.2s\n",
      "\t\t nIn: 1735182,\t nOut: \t203191\t in 88.8s\n",
      "\t\t nIn: 1748930,\t nOut: \t204505\t in 89.1s\n",
      "\t\t nIn: 1738928,\t nOut: \t204593\t in 92.3s\n",
      "\t\t nIn: 1748930,\t nOut: \t201072\t in 108.9s\n",
      "\t\t nIn: 1735115,\t nOut: \t204502\t in 110.3s\n",
      "\t\t nIn: 1735182,\t nOut: \t205143\t in 112.5s\n",
      "\t\t nIn: 705447,\t nOut: \t74808\t in 113.4s\n",
      "\t\t nIn: 1738928,\t nOut: \t201878\t in 113.2s\n",
      "\t\t nIn: 765459,\t nOut: \t90507\t in 120.5s\n",
      "\t\t nIn: 1735115,\t nOut: \t206074\t in 122.0s\n",
      "\t\t nIn: 1735182,\t nOut: \t208572\t in 123.1s\n",
      "\t\t nIn: 788337,\t nOut: \t95323\t in 124.9s\n",
      "\t\t nIn: 787934,\t nOut: \t95726\t in 126.0s\n",
      "Processing Signal $Z→μμ$ samples\n",
      "parallel_splits = 1\n",
      "\t./backend/datasets/ODEO_FEB2025_v0_2to4lep_mc_700323.Sh_2211_Zmumu_maxHTpTV2_BFilter.2to4lep.root:\n",
      "\t\t nIn: 1481213,\t nOut: \t1199381\t in 8.1s\n",
      "\t\t nIn: 956588,\t nOut: \t774854\t in 12.5s\n",
      "parallel_splits = 4\n",
      "\t./backend/datasets/ODEO_FEB2025_v0_2to4lep_mc_700324.Sh_2211_Zmumu_maxHTpTV2_CFilterBVeto.2to4lep.root:\n",
      "\t\t nIn: 1520075,\t nOut: \t1273737\t in 25.4s\t\t nIn: 1520312,\t nOut: \t1274301\t in 25.5s\t\t nIn: 1520916,\t nOut: \t1274940\t in 25.4s\n",
      "\n",
      "\n",
      "\t\t nIn: 1523716,\t nOut: \t1276619\t in 25.4s\n",
      "\t\t nIn: 1358048,\t nOut: \t1137688\t in 52.4s\t\t nIn: 1361452,\t nOut: \t1140322\t in 52.6s\n",
      "\n",
      "\t\t nIn: 1360848,\t nOut: \t1140007\t in 52.8s\n",
      "\t\t nIn: 1361689,\t nOut: \t1140860\t in 52.8s\n",
      "parallel_splits = 4\n",
      "\t./backend/datasets/ODEO_FEB2025_v0_2to4lep_mc_700325.Sh_2211_Zmumu_maxHTpTV2_CVetoBVeto.2to4lep.root:\n",
      "\t\t nIn: 1572983,\t nOut: \t1343026\t in 17.8s\n",
      "\t\t nIn: 1563538,\t nOut: \t1335441\t in 23.2s\t\t nIn: 1570310,\t nOut: \t1341338\t in 23.2s\n",
      "\n",
      "\t\t nIn: 1570166,\t nOut: \t1340884\t in 23.0s\n",
      "\t\t nIn: 1572983,\t nOut: \t1343856\t in 28.3s\n",
      "\t\t nIn: 1570166,\t nOut: \t1340851\t in 50.8s\n",
      "\t\t nIn: 1570310,\t nOut: \t1340860\t in 51.6s\n",
      "\t\t nIn: 1563538,\t nOut: \t1336139\t in 54.0s\n",
      "\t\t nIn: 1572983,\t nOut: \t1343393\t in 54.8s\n",
      "\t\t nIn: 1570166,\t nOut: \t1340957\t in 83.0s\n",
      "\t\t nIn: 1570310,\t nOut: \t1341234\t in 85.2s\n",
      "\t\t nIn: 1563538,\t nOut: \t1334999\t in 86.0s\n",
      "\t\t nIn: 1572983,\t nOut: \t1343278\t in 87.6s\n",
      "\t\t nIn: 1570166,\t nOut: \t1341190\t in 112.2s\n",
      "\t\t nIn: 1570310,\t nOut: \t1340982\t in 112.6s\n",
      "\t\t nIn: 1572983,\t nOut: \t1343366\t in 116.6s\n",
      "\t\t nIn: 1563538,\t nOut: \t1335168\t in 116.6s\n",
      "\t\t nIn: 1572983,\t nOut: \t1343771\t in 148.0s\n",
      "\t\t nIn: 1570166,\t nOut: \t1340702\t in 148.1s\n",
      "\t\t nIn: 1570310,\t nOut: \t1340705\t in 150.1s\n",
      "\t\t nIn: 1563538,\t nOut: \t1335860\t in 152.1s\n",
      "\t\t nIn: 1329514,\t nOut: \t1135019\t in 182.6s\n",
      "\t\t nIn: 1570166,\t nOut: \t1341795\t in 185.1s\n",
      "\t\t nIn: 1570310,\t nOut: \t1340592\t in 188.5s\n",
      "\t\t nIn: 1563538,\t nOut: \t1335213\t in 189.2s\n",
      "\t\t nIn: 1346416,\t nOut: \t1150036\t in 192.1s\n",
      "\t\t nIn: 1345551,\t nOut: \t1149574\t in 201.3s\n",
      "\t\t nIn: 1386184,\t nOut: \t1184435\t in 201.7s\n"
     ]
    }
   ],
   "source": [
    "filename = 'par-07-07-2025.txt'\n",
    "\n",
    "# Might need input for loop\n",
    "# analysis_parquet_parallel(luminosity, fraction, samples, selection_cut, variables,\n",
    "#                           ['lep_eta', 'lep_pt'], filename, 4)\n",
    "analysis_new(luminosity, fraction, variables, ['lep_eta', 'lep_pt'],\n",
    "             samples, filename, selection_cut)\n"
   ]
  },
  {
   "cell_type": "code",
   "execution_count": 12,
   "id": "d4f2c04b-bd79-4dd0-871d-15dfea2e725f",
   "metadata": {},
   "outputs": [
    {
     "name": "stdout",
     "output_type": "stream",
     "text": [
      "Elapsed time = 13.4s\n"
     ]
    }
   ],
   "source": [
    "colors_input = [\"m\", # purple\n",
    "                #\"g\", # green\n",
    "                \"k\"] # black\n",
    "\n",
    "\n",
    "output_dir = 'output/lumi36.6_frac1_lep_etalep_pt202507071350'\n",
    "eta0 = get_data_pq(samples, output_dir, 'lep_eta', scalar_variable=False)"
   ]
  },
  {
   "cell_type": "code",
   "execution_count": 13,
   "id": "7f79afdc-cced-48fa-99ca-fb1f69dd58f4",
   "metadata": {},
   "outputs": [
    {
     "name": "stdout",
     "output_type": "stream",
     "text": [
      "Elapsed time = 2.2s\n"
     ]
    },
    {
     "data": {
      "image/png": "[encoded data removed]",
      "text/plain": [
       "<Figure size 1200x800 with 1 Axes>"
      ]
     },
     "metadata": {},
     "output_type": "display_data"
    }
   ],
   "source": [
    "GeV = 1.0\n",
    "# x-axis range of the plot\n",
    "xmin = 0 * GeV\n",
    "xmax = 120 * GeV\n",
    "\n",
    "xmin = -3.15\n",
    "xmax = 3.15\n",
    "\n",
    "# Histogram bin setup\n",
    "step_size = 0.02 * GeV\n",
    "\n",
    "colors_input = [\"r\", \"b\"] # black\n",
    "\n",
    "fig, ax = plot_histogram_pq(eta0, 'lep_eta_0', colors_input,\n",
    "                            xmin, xmax,\n",
    "                            step_size,\n",
    "                            r'$\\eta$ [0]',\n",
    "                            y_label=f'Events / {step_size}',\n",
    "                            marker='.', label_fontsize=16,\n",
    "                            title=f'luminosity = {luminosity}, fraction = {fraction}',\n",
    "                           legend_fontsize=15)\n"
   ]
  },
  {
   "cell_type": "code",
   "execution_count": null,
   "id": "9e5903ce-1d3c-40a8-b8d3-9fa3b3cbbbd5",
   "metadata": {},
   "outputs": [],
   "source": [
    "pt0 = get_data_pq(samples, output_dir, 'lep_pt', scalar_variable=False)"
   ]
  },
  {
   "cell_type": "code",
   "execution_count": null,
   "id": "f18e0e3b-4e4b-4dbd-9541-fd65a21dc111",
   "metadata": {
    "scrolled": true
   },
   "outputs": [],
   "source": [
    "GeV = 1.0\n",
    "# x-axis range of the plot\n",
    "xmin = 0 * GeV\n",
    "xmax = 120 * GeV\n",
    "\n",
    "# Histogram bin setup\n",
    "step_size = 0.2 * GeV\n",
    "\n",
    "colors_input = [\"r\", \"b\"] # black\n",
    "\n",
    "fig, ax = plot_histogram_pq(pt0, 'lep_pt_0', colors_input,\n",
    "                            xmin, xmax,\n",
    "                            step_size,\n",
    "                            '$p_T$ [0]',\n",
    "                            y_label=f'Events / {step_size} GeV',\n",
    "                            marker='.', label_fontsize=16,\n",
    "                            title=f'luminosity = {luminosity}, fraction = {fraction}',\n",
    "                           legend_fontsize=15)\n"
   ]
  },
  {
   "cell_type": "code",
   "execution_count": null,
   "id": "3f4dd81f-f363-4665-b135-339e76f48ad3",
   "metadata": {},
   "outputs": [],
   "source": [
    "out = 'output/lumi36.6_frac1_etapt_260625'\n",
    "eta = get_data_pq(['Data 2to4lep', 'Signal $Z→μμ$'], out, 'lep_eta', scalar_variable=False)"
   ]
  },
  {
   "cell_type": "code",
   "execution_count": null,
   "id": "5a006521-7f6d-4826-bc4a-cb42a61118b2",
   "metadata": {},
   "outputs": [],
   "source": [
    "xmin = -3.15\n",
    "xmax = 3.15\n",
    "\n",
    "# Histogram bin setup\n",
    "step_size = 0.02\n",
    "\n",
    "colors_input = [\"r\", 'b'] # black\n",
    "\n",
    "fig, ax = plot_histogram_pq(eta, 'lep_eta_0', colors_input,\n",
    "                            xmin, xmax,\n",
    "                            step_size,\n",
    "                            r'$\\eta$ [0]',\n",
    "                            y_label=f'Events / {step_size}',\n",
    "                            marker='o', label_fontsize=16,\n",
    "                            title=f'luminosity = {luminosity}, fraction = {1}',\n",
    "                           legend_fontsize=15)"
   ]
  },
  {
   "cell_type": "code",
   "execution_count": null,
   "id": "ef8dcc3f-5b46-4b9d-b9ec-56ba54a29e17",
   "metadata": {},
   "outputs": [],
   "source": [
    "pt1 = get_data_pq(samples, out, 'lep_pt', scalar_variable=False, index=1)"
   ]
  },
  {
   "cell_type": "code",
   "execution_count": null,
   "id": "1636df94-41da-411e-a971-f38169e61388",
   "metadata": {
    "scrolled": true
   },
   "outputs": [],
   "source": [
    "plot_histogram_pq(pt1, 'lep_pt_1', colors_input,\n",
    "                  xmin, xmax,\n",
    "                  step_size,\n",
    "                  '$p_t$[1] [GeV]',\n",
    "                  y_label=f'Events / {step_size} GeV',\n",
    "                  marker='.', label_fontsize=16,\n",
    "                  title=f'luminosity = {luminosity}, fraction = {fraction}')"
   ]
  },
  {
   "cell_type": "code",
   "execution_count": null,
   "id": "b3bafb45-63d6-4bee-9816-e64d7c90fa7b",
   "metadata": {},
   "outputs": [],
   "source": [
    "fig.savefig('histogram-pq.png')"
   ]
  },
  {
   "cell_type": "code",
   "execution_count": null,
   "id": "86485d61-87d8-40a6-8237-a6e07a41e167",
   "metadata": {},
   "outputs": [],
   "source": [
    "from PqMultipleRuns import get_multiple_runs_real_data_list, plot_main_errorbar, plot_multiple_runs_pq\n"
   ]
  },
  {
   "cell_type": "code",
   "execution_count": null,
   "id": "188a7ca5-09d6-4c55-b3f3-bbeaa8b999d3",
   "metadata": {},
   "outputs": [],
   "source": [
    "selected_data_list = [pt, pt1]\n",
    "selected_data_list"
   ]
  },
  {
   "cell_type": "code",
   "execution_count": null,
   "id": "6eab508c-9ec6-4c6d-84c7-94483e57193f",
   "metadata": {},
   "outputs": [],
   "source": [
    "color_list = ['b', 'g']\n",
    "label_list = ['$p_T$ [0]', '$p_T$ [1]']\n",
    "multiple_runs_data_list = get_multiple_runs_real_data_list(selected_data_list, color_list, label_list)\n",
    "multiple_runs_data_list"
   ]
  },
  {
   "cell_type": "code",
   "execution_count": null,
   "id": "91cbd27b-08db-4224-82b3-2f768dbfba6a",
   "metadata": {},
   "outputs": [],
   "source": [
    "plot_multiple_runs_pq(multiple_runs_data_list,\n",
    "                           xmin,\n",
    "                           xmax,\n",
    "                           step_size,\n",
    "                           '$p_T$ [GeV]', marker='.', y_label=f'Events / {step_size} GeV')"
   ]
  },
  {
   "cell_type": "code",
   "execution_count": null,
   "id": "fdad65c9-52d6-4354-94de-73478fd73763",
   "metadata": {},
   "outputs": [],
   "source": []
  }
 ],
 "metadata": {
  "kernelspec": {
   "display_name": "Python 3 (ipykernel)",
   "language": "python",
   "name": "python3"
  },
  "language_info": {
   "codemirror_mode": {
    "name": "ipython",
    "version": 3
   },
   "file_extension": ".py",
   "mimetype": "text/x-python",
   "name": "python",
   "nbconvert_exporter": "python",
   "pygments_lexer": "ipython3",
   "version": "3.12.3"
  },
  "toc-showmarkdowntxt": false
 },
 "nbformat": 4,
 "nbformat_minor": 5
}
